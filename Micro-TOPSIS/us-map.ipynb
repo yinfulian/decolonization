{
 "cells": [
  {
   "cell_type": "code",
   "execution_count": 40,
   "id": "bf14bcc3",
   "metadata": {},
   "outputs": [],
   "source": [
    "import plotly.graph_objects as go\n",
    "import pandas as pd\n",
    "\n",
    "# 导入数据\n",
    "df = pd.read_excel('/Users/yangqianyi/Desktop/decolonization/data/test-map-average.xlsx',sheet_name='Sheet1')\n",
    "\n",
    "fig = go.Figure(data=go.Choropleth(\n",
    "    locations=df['code'], # 设置位置，各州的编号（缩写）\n",
    "    z = df['average'].astype(float), # 设置填充色数据\n",
    "    locationmode = 'USA-states', # 设置国家名称\n",
    "    #colorscale = 'earth', # 图例颜色\n",
    "    #colorscale=['#E1F0B3','#FBBA7E','#D9382A'],\n",
    "    colorscale=['#DDEFB1','#FEF4C0','#FEEEBA','#FEE1AA','#FDC68A','#FBBB7F','#FBBA7E','#F5A374','#EF8F6B','#EB7547','#DF5952','#DC402D','#D83428'],\n",
    "    #colorscale=['#DDEFB1','#F5F3BC','#FEEAB5','#F9B37B','#F0916C','#E4654D','#D83428'],\n",
    "    colorbar_title = \"人数\", # 图例标题\n",
    "))\n",
    "\n",
    "fig.update_layout(\n",
    "    title_text = '美国各州对去殖民化健康政策的关注度（Volume）', # 地图标题\n",
    "    geo_scope='usa', # 设置地图的范围为美国\n",
    "    #scope可选有\"world\"，\"usa\"，\"europe\"，\"asia\"，\"africa\"，\"north america\"，\"south america\"\n",
    ")\n",
    "fig.write_image(\"US-average.svg\")"
   ]
  },
  {
   "cell_type": "code",
   "execution_count": 43,
   "id": "ba59e750",
   "metadata": {},
   "outputs": [],
   "source": [
    "import plotly.graph_objects as go\n",
    "import pandas as pd\n",
    "\n",
    "# 导入数据\n",
    "df = pd.read_excel('/Users/yangqianyi/Desktop/decolonization/data/test-map-score.xlsx',sheet_name='Sheet1')\n",
    "\n",
    "fig = go.Figure(data=go.Choropleth(\n",
    "    locations=df['code'], # 设置位置，各州的编号（缩写）\n",
    "    z = df['score'].astype(float), # 设置填充色数据\n",
    "    locationmode = 'USA-states', # 设置国家名称\n",
    "    #colorscale = 'earth', # 图例颜色\n",
    "    #colorscale=['#5F3706','#F6F3EC','#00483D'],\n",
    "    colorscale=['#DDEFB1','#FEF4C0','#FEEEBA','#FEE1AA','#FDC68A','#DF5952','#DC402D','#D83428'],\n",
    "    #colorscale=['#DDEFB1','#F5F3BC','#FEEAB5','#F9B37B','#F0916C','#D83428'],\n",
    "    colorbar_title = \"人数\", # 图例标题\n",
    "))\n",
    "\n",
    "fig.update_layout(\n",
    "    title_text = '美国各州对去殖民化健康政策的关注度（Score）', # 地图标题\n",
    "    geo_scope='usa', # 设置地图的范围为美国\n",
    "    #scope可选有\"world\"，\"usa\"，\"europe\"，\"asia\"，\"africa\"，\"north america\"，\"south america\"\n",
    ")\n",
    "fig.write_image(\"US-score.svg\")"
   ]
  },
  {
   "cell_type": "code",
   "execution_count": null,
   "id": "b35ab545",
   "metadata": {},
   "outputs": [],
   "source": []
  }
 ],
 "metadata": {
  "kernelspec": {
   "display_name": "Python 3 (ipykernel)",
   "language": "python",
   "name": "python3"
  },
  "language_info": {
   "codemirror_mode": {
    "name": "ipython",
    "version": 3
   },
   "file_extension": ".py",
   "mimetype": "text/x-python",
   "name": "python",
   "nbconvert_exporter": "python",
   "pygments_lexer": "ipython3",
   "version": "3.9.7"
  }
 },
 "nbformat": 4,
 "nbformat_minor": 5
}
